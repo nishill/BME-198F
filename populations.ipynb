{
 "cells": [
  {
   "cell_type": "markdown",
   "metadata": {
    "deletable": true,
    "editable": true
   },
   "source": [
    "# Statistical Analysis and GA4GH API testing with two genomic diversity datasets:\n"
   ]
  },
  {
   "cell_type": "markdown",
   "metadata": {
    "deletable": true,
    "editable": true
   },
   "source": [
    "1) 1000 Genomes Project \n",
    "    - 2504 Individual Genomes\n",
    "    - 26 subpopulations \n",
    "2) Simons Foundation Genome Diversity Project\n",
    "    - 279 Individual Genomes \n",
    "    - 127 subpopulations "
   ]
  },
  {
   "cell_type": "markdown",
   "metadata": {
    "deletable": true,
    "editable": true
   },
   "source": [
    "# Import GA4GH Client Module"
   ]
  },
  {
   "cell_type": "code",
   "execution_count": 1,
   "metadata": {
    "collapsed": true,
    "deletable": true,
    "editable": true
   },
   "outputs": [],
   "source": [
    "from __future__ import print_function\n",
    "import ga4gh.client.client as client"
   ]
  },
  {
   "cell_type": "markdown",
   "metadata": {
    "deletable": true,
    "editable": true
   },
   "source": [
    "# Make connection to the 1000 Genomes Project Server "
   ]
  },
  {
   "cell_type": "code",
   "execution_count": 2,
   "metadata": {
    "collapsed": false,
    "deletable": true,
    "editable": true
   },
   "outputs": [],
   "source": [
    "oneK_genomes_client = client.HttpClient(\"http://1kgenomes.ga4gh.org\")\n",
    "oneK_genomes_datasets = list( oneK_genomes_client.search_datasets() )\n",
    "# get 1000 gneomes dataset \n",
    "oneK_genomes_dataset = oneK_genomes_client.get_dataset(oneK_genomes_datasets[0].id)\n",
    "release = None\n",
    "functional = None\n",
    "# obtain the 1000 genomes variant set\n",
    "for variant_set in oneK_genomes_client.search_variant_sets(dataset_id=oneK_genomes_dataset.id):\n",
    "    if variant_set.name == \"phase3-release\":\n",
    "        release = variant_set\n",
    "    else:\n",
    "        functional = variant_set"
   ]
  },
  {
   "cell_type": "markdown",
   "metadata": {
    "deletable": true,
    "editable": true
   },
   "source": [
    "# Make connection to the Simons Foundation Server"
   ]
  },
  {
   "cell_type": "code",
   "execution_count": 3,
   "metadata": {
    "collapsed": false,
    "deletable": true,
    "editable": true
   },
   "outputs": [],
   "source": [
    "simons_client = client.HttpClient(\"http://10.50.100.241/\")\n",
    "simons_datasets = list(simons_client.search_datasets())\n",
    "# get SGDP dataset \n",
    "simons_dataset = simons_client.get_dataset(simons_datasets[0].id)"
   ]
  },
  {
   "cell_type": "markdown",
   "metadata": {
    "deletable": true,
    "editable": true
   },
   "source": [
    "# chromosome length dictionary"
   ]
  },
  {
   "cell_type": "markdown",
   "metadata": {
    "deletable": true,
    "editable": true
   },
   "source": [
    "this is used for random sampling regions to look for genes on each chromosome "
   ]
  },
  {
   "cell_type": "code",
   "execution_count": 4,
   "metadata": {
    "collapsed": true,
    "deletable": true,
    "editable": true
   },
   "outputs": [],
   "source": [
    "chrom_len_dict = {\n",
    "    \"1\":249250621,\n",
    "    \"2\":243199373,\n",
    "    \"3\":198022430,\n",
    "    \"4\":191154276,\n",
    "    \"5\":180915260,\n",
    "    \"6\":171115067,\n",
    "    \"7\":159138663,\n",
    "    \"X\":155270560,\n",
    "    \"8\":146364022,\n",
    "    \"9\":141213431,\n",
    "    \"10\":135534747,\n",
    "    \"11\":135006516,\n",
    "    \"12\":133851895,\n",
    "    \"13\":115169878,\n",
    "    \"14\":107349540,\n",
    "    \"15\":102531392,\n",
    "    \"16\":90354753,\n",
    "    \"17\":81195210,\n",
    "    \"18\":78077248,\n",
    "    \"20\":63025520,\n",
    "    \"Y\" :59373566,\n",
    "    \"19\":59128983,\n",
    "    \"22\":51304566,\n",
    "    \"21\":48129895,\n",
    "}"
   ]
  },
  {
   "cell_type": "markdown",
   "metadata": {
    "deletable": true,
    "editable": true
   },
   "source": [
    "# get the random regions "
   ]
  },
  {
   "cell_type": "markdown",
   "metadata": {
    "deletable": true,
    "editable": true
   },
   "source": [
    "for getting random regions on each chromosome "
   ]
  },
  {
   "cell_type": "code",
   "execution_count": 5,
   "metadata": {
    "collapsed": true,
    "deletable": true,
    "editable": true
   },
   "outputs": [],
   "source": [
    "import random \n",
    "def get_random_regions():\n",
    "    \"\"\"\n",
    "    randomly samples a position in each chromosome\n",
    "    :return: a dictionary of chromosome number to random position\n",
    "    \"\"\"\n",
    "\n",
    "    chromosomes = chrom_len_dict.keys()\n",
    "\n",
    "    random_regions_dict = {}\n",
    "    for i in chromosomes:\n",
    "\n",
    "        random_region = random.randrange(0,chrom_len_dict[i])\n",
    "\n",
    "        random_regions_dict[i] = random_region\n",
    "\n",
    "    return random_regions_dict"
   ]
  },
  {
   "cell_type": "markdown",
   "metadata": {
    "deletable": true,
    "editable": true
   },
   "source": [
    "# bootstrapping"
   ]
  },
  {
   "cell_type": "markdown",
   "metadata": {
    "deletable": true,
    "editable": true
   },
   "source": [
    "bootstrapping is a statistical inference method that relies on random sampling the sample size to gain insight into the population size as a whole"
   ]
  },
  {
   "cell_type": "code",
   "execution_count": 6,
   "metadata": {
    "collapsed": false,
    "deletable": true,
    "editable": true
   },
   "outputs": [],
   "source": [
    "import json \n",
    "import collections\n",
    "def boot_strap(filename):\n",
    "    data_dict = {}   \n",
    "    with open(filename) as data_file:\n",
    "        data_dict = json.load(data_file)\n",
    "    \n",
    "    csids = data_dict.keys()\n",
    "    population = data_dict.values()[0]\n",
    "    random_data = {}\n",
    "    for i in range(len(csids)):\n",
    "        #random_data.append(random.sample(csids,1)[0])\n",
    "        random_data[random.sample(csids,1)[0]] = population \n",
    "    # this line of code allows us to see that the random sample was correct, i.e., at least\n",
    "    # one individual should appear more than once in the random bootstrap sample \n",
    "    #print ([item for item, count in collections.Counter(random_data).items() if count > 1])\n",
    "    return random_data"
   ]
  },
  {
   "cell_type": "markdown",
   "metadata": {
    "deletable": true,
    "editable": true
   },
   "source": [
    "# get the feature set"
   ]
  },
  {
   "cell_type": "markdown",
   "metadata": {
    "deletable": true,
    "editable": true
   },
   "source": [
    "This is used to find the names of genes and the regions that they are found in. Because gene regions are globally recognized we can use the 1000 genomes client to obtain them. "
   ]
  },
  {
   "cell_type": "code",
   "execution_count": 7,
   "metadata": {
    "collapsed": false,
    "deletable": true,
    "editable": true
   },
   "outputs": [],
   "source": [
    "for feature_set in oneK_genomes_client.search_feature_sets(dataset_id=oneK_genomes_dataset.id):\n",
    "    if feature_set.name == \"gencode_v24lift37\":\n",
    "        gencode = feature_set\n",
    "\n",
    "feature_set = oneK_genomes_client.get_feature_set(feature_set_id=gencode.id)\n"
   ]
  },
  {
   "cell_type": "markdown",
   "metadata": {
    "deletable": true,
    "editable": true
   },
   "source": [
    "# obtains genes and their start and end positions on their respective chromosomes "
   ]
  },
  {
   "cell_type": "code",
   "execution_count": 8,
   "metadata": {
    "collapsed": true,
    "deletable": true,
    "editable": true
   },
   "outputs": [],
   "source": [
    "# for random sampling genes on each chromosome \n",
    "def get_gene_regions():\n",
    "\n",
    "    \"\"\"\n",
    "    randomly samples 10 genes from each chromosome and finds their start and end positions\n",
    "    :return: dictionary of chromosomes with 10 genes for each chromosome and their positions\n",
    "    \"\"\"\n",
    "\n",
    "    rrd = get_random_regions()\n",
    "\n",
    "    regions = {}\n",
    "    for chrom,region in rrd.iteritems():\n",
    "\n",
    "        genes = {}\n",
    "        stop = chrom_len_dict[chrom]\n",
    "        for features in oneK_genomes_client.search_features(feature_set_id=feature_set.id,feature_types=['gene'],start=region, end=stop):\n",
    "\n",
    "            if len(genes) == 10: break \n",
    "\n",
    "            genes[features.gene_symbol] = (int(features.start), int(features.end))\n",
    "\n",
    "        regions[chrom] = genes\n",
    "\n",
    "    return regions\n"
   ]
  },
  {
   "cell_type": "markdown",
   "metadata": {
    "deletable": true,
    "editable": true
   },
   "source": [
    "# obtains the allele frequencies for the random sampled genes on a given chromsome "
   ]
  },
  {
   "cell_type": "code",
   "execution_count": 9,
   "metadata": {
    "collapsed": false,
    "deletable": true,
    "editable": true
   },
   "outputs": [],
   "source": [
    "import json\n",
    "from collections import defaultdict\n",
    "# for getting allele frequencies from random sampled genes in their respective regions \n",
    "def get_af_for_genes(client,genes,chrom,filename, variant_set, bootstrap):\n",
    "    \"\"\"\n",
    "    finds allele frequencies for random sampled genes on a given chromosome and variant set\n",
    "    there is a boolean option for whether the data should be bootstrapped \n",
    "    \"\"\"\n",
    "    if bootstrap == True:\n",
    "        pop_dict = boot_strap(filename)\n",
    "    else:\n",
    "        pop_dict = {}\n",
    "        with open(filename) as data_file:\n",
    "            pop_dict = json.load(data_file)\n",
    "\n",
    "    cs_ids = pop_dict.keys()\n",
    "    n = float(len(pop_dict))\n",
    "    chrom_dict = {}\n",
    "    genes = genes[chrom]\n",
    "    #print (\"Chromosome: \" + str(chrom))\n",
    "    gene_dict = {} \n",
    "    for gene,positions in genes.iteritems():\n",
    "        #print (\"Gene: \" + str(gene))\n",
    "        #print (\"Gene positions: \" + str(positions[0]) + \" to \" + str(positions[1] ))\n",
    "        i = 0\n",
    "        individual_dict = {}\n",
    "        allele_dict = defaultdict(list)\n",
    "        alleles = []\n",
    "        for v in client.search_variants(variant_set_id=variant_set.id,call_set_ids=cs_ids,\n",
    "            start= positions[0],end=positions[1], reference_name=chrom):\n",
    "            if i > 100: break\n",
    "            count = 0.0\n",
    "            for co in v.calls:\n",
    "                 \n",
    "                if len(co.genotype) > 1:\n",
    "                    A1 = co.genotype[0]\n",
    "                    A2 = co.genotype[1]\n",
    "                else:\n",
    "                    A1 = co.genotype[0]\n",
    "                    A2 = 0\n",
    "                if (((A1 + A2 ) > 0)):\n",
    "                    count += 1\n",
    "\n",
    "            af = count / n \n",
    "            if ( af > 0.0 and len(v.names) > 0 ):\n",
    "                #print( \"Allele frequency for variant \" + str(v.names[0]) + \" is \" + str(af))\n",
    "                allele_dict[v.names[0]].append(af)\n",
    "            i += 1\n",
    "        gene_dict[gene] = allele_dict\n",
    "        #print()\n",
    "    #print()\n",
    "    chrom_dict[chrom] = gene_dict\n",
    "\n",
    "    return chrom_dict "
   ]
  },
  {
   "cell_type": "code",
   "execution_count": 10,
   "metadata": {
    "collapsed": false,
    "deletable": true,
    "editable": true
   },
   "outputs": [],
   "source": [
    "genes = {}\n",
    "genes = get_gene_regions()\n",
    "\n",
    "mxl_info = get_af_for_genes(oneK_genomes_client,genes,\"1\",'./1kgenomes_csids/MXL.json', release,False)"
   ]
  },
  {
   "cell_type": "code",
   "execution_count": 11,
   "metadata": {
    "collapsed": false,
    "deletable": true,
    "editable": true
   },
   "outputs": [],
   "source": [
    "def get_data_matrix(chrom_dict, chrom):\n",
    "\n",
    "    data_matrix = []\n",
    "    name_row = ['gene','variant','allele frequency']\n",
    "    data_matrix.append(name_row)\n",
    "    for gene, allele_dict in chrom_dict[chrom].iteritems():\n",
    "        row = []\n",
    "        row.append(gene)\n",
    "        alleles = allele_dict.keys()\n",
    "        i = 0\n",
    "        for allele in alleles:\n",
    "            if i >= 1:\n",
    "                row.append(\" \")\n",
    "            row.append(allele)\n",
    "            row.append( list(allele_dict[allele] )[0] )\n",
    "            i += 1\n",
    "            data_matrix.append(row)\n",
    "            row = []\n",
    "\n",
    "    return data_matrix"
   ]
  },
  {
   "cell_type": "code",
   "execution_count": 21,
   "metadata": {
    "collapsed": false,
    "deletable": true,
    "editable": true
   },
   "outputs": [
    {
     "data": {
      "application/javascript": [
       "// run this javascript to supress output scrolling \n",
       "IPython.OutputArea.auto_scroll_threshold = 9999;"
      ],
      "text/plain": [
       "<IPython.core.display.Javascript object>"
      ]
     },
     "metadata": {},
     "output_type": "display_data"
    }
   ],
   "source": [
    "%%javascript\n",
    "// run this javascript to supress output scrolling \n",
    "IPython.OutputArea.auto_scroll_threshold = 9999;"
   ]
  },
  {
   "cell_type": "markdown",
   "metadata": {},
   "source": [
    "# Table Shows Allele Frequencies in Randomly Sampled Genes"
   ]
  },
  {
   "cell_type": "code",
   "execution_count": 20,
   "metadata": {
    "collapsed": false,
    "deletable": true,
    "editable": true
   },
   "outputs": [
    {
     "data": {
      "text/html": [
       "<iframe id=\"igraph\" scrolling=\"no\" style=\"border:none;\" seamless=\"seamless\" src=\"https://plot.ly/~nishill/0.embed\" height=\"2840px\" width=\"100%\"></iframe>"
      ],
      "text/plain": [
       "<plotly.tools.PlotlyDisplay object>"
      ]
     },
     "execution_count": 20,
     "metadata": {},
     "output_type": "execute_result"
    }
   ],
   "source": [
    "import sys\n",
    "import os\n",
    "import plotly\n",
    "import plotly.plotly as py\n",
    "import plotly.figure_factory as ff\n",
    "from plotly.graph_objs import Scatter, Figure, Layout\n",
    "#plotly.tools.set_credentials_file(username='nishill', api_key='XnMkHhoL9H5PwPKIcwr9')\n",
    "\n",
    "data_matrix = get_data_matrix(mxl_info, str(1))\n",
    "data_matrix.insert(0,['Chromosome 1 Variant Frequencies in Mexican Subpopulation in Los Angeles','',''])\n",
    "table = ff.create_table(data_matrix, index=True)\n",
    "\n",
    "# Make text size larger\n",
    "for i in range(len(table.layout.annotations)):\n",
    "    table.layout.annotations[i].font.size = 10\n",
    "\n",
    "# redirect plotly message to file and then remove it\n",
    "sys.stdout = open('plotly_message.txt','w')\n",
    "os.remove('plotly_message.txt')\n",
    "\n",
    "# plot table\n",
    "py.iplot(table, filename='index_table')"
   ]
  },
  {
   "cell_type": "markdown",
   "metadata": {
    "deletable": true,
    "editable": true
   },
   "source": [
    "# Bootstrap data on individual in the Great Britain subpopulation 50 times"
   ]
  },
  {
   "cell_type": "markdown",
   "metadata": {
    "deletable": true,
    "editable": true
   },
   "source": [
    "Graph the Gaussian ditribution for a rare and a common variant in one of the genes analyzed in the bootstrap"
   ]
  },
  {
   "cell_type": "code",
   "execution_count": 55,
   "metadata": {
    "collapsed": false,
    "deletable": true,
    "editable": true
   },
   "outputs": [],
   "source": [
    "genes = get_gene_regions()\n",
    "data = []\n",
    "for i in range(0,50):\n",
    "    chrom_dict = get_af_for_genes(oneK_genomes_client,genes,\"1\",'./1kgenomes_csids/GBR.json', release,True)\n",
    "    data.append(chrom_dict)"
   ]
  },
  {
   "cell_type": "code",
   "execution_count": 99,
   "metadata": {
    "collapsed": false
   },
   "outputs": [],
   "source": [
    "# common variant\n",
    "common_allele_data = []\n",
    "# rare variant\n",
    "rare_allele_data = []\n",
    "i = 0\n",
    "for element in data:\n",
    "    for gene,allele_dict in element['1'].iteritems():     \n",
    "        min_allele = 'rs142147991'\n",
    "        max_allele = 'rs61835532'\n",
    "        alleles = allele_dict.keys()\n",
    "        if gene == 'EDARADD':\n",
    "            if len((allele_dict[min_allele])) > 0.0:\n",
    "                rare_allele_data.append(list(allele_dict[min_allele])[0])\n",
    "            if len(allele_dict[max_allele]) > 0.0:\n",
    "                common_allele_data.append(list(allele_dict[max_allele])[0])"
   ]
  },
  {
   "cell_type": "markdown",
   "metadata": {},
   "source": [
    "# Gaussian Distribution For Variants in EDARADD gene"
   ]
  },
  {
   "cell_type": "markdown",
   "metadata": {},
   "source": [
    "From the UCSC Genome Browser:\n",
    "\n",
    "\"This gene was identified by its association with ectodermal dysplasia, a genetic disorder characterized by defective development of hair, teeth, and eccrine sweat glands. The protein encoded by this gene is a death domain-containing protein, and is found to interact with EDAR, a death domain receptor known to be required for the development of hair, teeth and other ectodermal derivatives.\""
   ]
  },
  {
   "cell_type": "code",
   "execution_count": 102,
   "metadata": {
    "collapsed": false
   },
   "outputs": [
    {
     "data": {
      "image/png": "[encoded data removed]",
      "text/plain": [
       "<matplotlib.figure.Figure at 0x112f1b5d0>"
      ]
     },
     "metadata": {},
     "output_type": "display_data"
    }
   ],
   "source": [
    "import numpy as np\n",
    "import scipy.stats as stats\n",
    "import pylab as pl\n",
    "\n",
    "# common variant\n",
    "common_allele_data = sorted(common_allele_data)\n",
    "fit1 = stats.norm.pdf(common_allele_data, np.mean(common_allele_data), np.std(common_allele_data))\n",
    "pl.plot(common_allele_data,fit1,'-o')\n",
    "pl.hist(common_allele_data,normed=True)      \n",
    "pl.xlabel('allele frequency')\n",
    "pl.ylabel('normal density')\n",
    "pl.title('Common Variant: rs61835532')\n",
    "pl.show()                   "
   ]
  },
  {
   "cell_type": "code",
   "execution_count": 103,
   "metadata": {
    "collapsed": false
   },
   "outputs": [
    {
     "data": {
      "image/png": "[encoded data removed]",
      "text/plain": [
       "<matplotlib.figure.Figure at 0x1123ec290>"
      ]
     },
     "metadata": {},
     "output_type": "display_data"
    }
   ],
   "source": [
    "# rare variant\n",
    "rare_allele_data = sorted(rare_allele_data)\n",
    "fit = stats.norm.pdf(rare_allele_data, np.mean(rare_allele_data), np.std(rare_allele_data))  \n",
    "pl.plot(rare_allele_data,fit,'-o')\n",
    "pl.hist(rare_allele_data,normed=True)\n",
    "pl.xlabel('allele frequency')\n",
    "pl.ylabel('normal density')\n",
    "pl.title('Rare variant: rs142147991')\n",
    "pl.show()                   "
   ]
  },
  {
   "cell_type": "markdown",
   "metadata": {
    "deletable": true,
    "editable": true
   },
   "source": [
    "# Difference between analyzing individuals in a single variant set versus across variant sets"
   ]
  },
  {
   "cell_type": "markdown",
   "metadata": {
    "deletable": true,
    "editable": true
   },
   "source": [
    "Individuals in the 1000 genomes dataset all belong to the same variant set so their call set ids can be compared between one another.\n",
    "However in the SGDP dataset, each individual belongs to their own variant set so their call set ids cannot be compared to other\n",
    "individuals of different variant sets."
   ]
  },
  {
   "cell_type": "code",
   "execution_count": 23,
   "metadata": {
    "collapsed": false,
    "deletable": true,
    "editable": true
   },
   "outputs": [
    {
     "data": {
      "image/png": "[encoded data removed]",
      "text/plain": [
       "<matplotlib.figure.Figure at 0x110aa2b90>"
      ]
     },
     "metadata": {},
     "output_type": "display_data"
    }
   ],
   "source": [
    "import json \n",
    "pop_dict = {}\n",
    "with open(\"./1kgenomes_csids/CHS.json\") as data_file:\n",
    "    pop_dict = json.load(data_file)\n",
    "    \n",
    "callSetIds = pop_dict.keys()\n",
    "pairs = pop_dict.values()\n",
    "\n",
    "\n",
    "import variantMatrix\n",
    "vm = variantMatrix.VariantMatrix(oneK_genomes_dataset, oneK_genomes_client, \n",
    "                                [release.id], callSetIds, len(callSetIds),\"3\", 1000000,3000000)\n",
    "vm.visualize_matrix_color()"
   ]
  },
  {
   "cell_type": "markdown",
   "metadata": {},
   "source": [
    "The 279 variant sets in the SGDP data cannot be cross compared because their callSets are not a part of each others variant sets "
   ]
  },
  {
   "cell_type": "code",
   "execution_count": 4,
   "metadata": {
    "collapsed": false,
    "deletable": true,
    "editable": true,
    "scrolled": true
   },
   "outputs": [
    {
     "name": "stderr",
     "output_type": "stream",
     "text": [
      "ERROR:ga4gh.client.client:404 {\"errorCode\": 1971332027, \"message\": \"callSet 'WyJTaW1vbnMiLCJ2cyIsIkxQNjAwNTQ0Mi1ETkFfRjAyIiwiTFA2MDA1NDQyLUROQV9GMDIiXQ' not in variantSet 'WyJTaW1vbnMiLCJ2cyIsIkxQNjAwNTQ0My1ETkFfQzA4Il0'\"}\n"
     ]
    },
    {
     "ename": "RequestNonSuccessException",
     "evalue": "Url http://10.50.100.241/variants/search had status_code 404",
     "output_type": "error",
     "traceback": [
      "\u001b[0;31m---------------------------------------------------------------------------\u001b[0m",
      "\u001b[0;31mRequestNonSuccessException\u001b[0m                Traceback (most recent call last)",
      "\u001b[0;32m<ipython-input-4-d56b430b7ef2>\u001b[0m in \u001b[0;36m<module>\u001b[0;34m()\u001b[0m\n\u001b[1;32m     11\u001b[0m \u001b[0;34m\u001b[0m\u001b[0m\n\u001b[1;32m     12\u001b[0m \u001b[0;32mimport\u001b[0m \u001b[0mvariantMatrix\u001b[0m\u001b[0;34m\u001b[0m\u001b[0m\n\u001b[0;32m---> 13\u001b[0;31m \u001b[0mvm\u001b[0m \u001b[0;34m=\u001b[0m \u001b[0mvariantMatrix\u001b[0m\u001b[0;34m.\u001b[0m\u001b[0mVariantMatrix\u001b[0m\u001b[0;34m(\u001b[0m\u001b[0msimons_dataset\u001b[0m\u001b[0;34m,\u001b[0m\u001b[0msimons_client\u001b[0m\u001b[0;34m,\u001b[0m \u001b[0mvariantSetIds\u001b[0m\u001b[0;34m,\u001b[0m \u001b[0mcallSetIds\u001b[0m\u001b[0;34m,\u001b[0m \u001b[0;36m4\u001b[0m\u001b[0;34m,\u001b[0m \u001b[0;34m\"2\"\u001b[0m\u001b[0;34m,\u001b[0m \u001b[0;36m500000\u001b[0m\u001b[0;34m,\u001b[0m\u001b[0;36m1000000\u001b[0m  \u001b[0;34m)\u001b[0m\u001b[0;34m\u001b[0m\u001b[0m\n\u001b[0m",
      "\u001b[0;32m/Users/nishill/src/winter17/populations/variantMatrix.py\u001b[0m in \u001b[0;36m__init__\u001b[0;34m(self, dataset, client, vs_ids, cs_ids, num_people, chrom, start, end)\u001b[0m\n\u001b[1;32m     35\u001b[0m \u001b[0;34m\u001b[0m\u001b[0m\n\u001b[1;32m     36\u001b[0m \u001b[0;34m\u001b[0m\u001b[0m\n\u001b[0;32m---> 37\u001b[0;31m                 \u001b[0mself\u001b[0m\u001b[0;34m.\u001b[0m\u001b[0mvariantMatrix\u001b[0m \u001b[0;34m=\u001b[0m \u001b[0mself\u001b[0m\u001b[0;34m.\u001b[0m\u001b[0mvariant_matrix\u001b[0m\u001b[0;34m(\u001b[0m\u001b[0;34m)\u001b[0m\u001b[0;34m\u001b[0m\u001b[0m\n\u001b[0m\u001b[1;32m     38\u001b[0m \u001b[0;34m\u001b[0m\u001b[0m\n\u001b[1;32m     39\u001b[0m \u001b[0;34m\u001b[0m\u001b[0m\n",
      "\u001b[0;32m/Users/nishill/src/winter17/populations/variantMatrix.py\u001b[0m in \u001b[0;36mvariant_matrix\u001b[0;34m(self)\u001b[0m\n\u001b[1;32m    165\u001b[0m \u001b[0;34m\u001b[0m\u001b[0m\n\u001b[1;32m    166\u001b[0m \t\t\tvs = list(self.client.search_variants(variant_set, call_set_ids= self.cs_ids,\n\u001b[0;32m--> 167\u001b[0;31m \t\t\t\tstart=self.start, end=self.end, reference_name = self.chrom))\n\u001b[0m\u001b[1;32m    168\u001b[0m \u001b[0;34m\u001b[0m\u001b[0m\n\u001b[1;32m    169\u001b[0m                         \u001b[0;31m# iterate through each persons call set id and increment cells in the matrix for shared genotypes\u001b[0m\u001b[0;34m\u001b[0m\u001b[0;34m\u001b[0m\u001b[0m\n",
      "\u001b[0;32m/Users/nishill/src/winter17/ve/lib/python2.7/site-packages/ga4gh/client/client.pyc\u001b[0m in \u001b[0;36m_run_search_request\u001b[0;34m(self, protocol_request, object_name, protocol_response_class)\u001b[0m\n\u001b[1;32m     56\u001b[0m         \u001b[0;32mwhile\u001b[0m \u001b[0mnot_done\u001b[0m\u001b[0;34m:\u001b[0m\u001b[0;34m\u001b[0m\u001b[0m\n\u001b[1;32m     57\u001b[0m             response_object = self._run_search_page_request(\n\u001b[0;32m---> 58\u001b[0;31m                 protocol_request, object_name, protocol_response_class)\n\u001b[0m\u001b[1;32m     59\u001b[0m             value_list = getattr(\n\u001b[1;32m     60\u001b[0m                 \u001b[0mresponse_object\u001b[0m\u001b[0;34m,\u001b[0m\u001b[0;34m\u001b[0m\u001b[0m\n",
      "\u001b[0;32m/Users/nishill/src/winter17/ve/lib/python2.7/site-packages/ga4gh/client/client.pyc\u001b[0m in \u001b[0;36m_run_search_page_request\u001b[0;34m(self, protocol_request, object_name, protocol_response_class)\u001b[0m\n\u001b[1;32m    818\u001b[0m         response = self._session.post(\n\u001b[1;32m    819\u001b[0m             url, params=self._get_http_parameters(), data=data)\n\u001b[0;32m--> 820\u001b[0;31m         \u001b[0mself\u001b[0m\u001b[0;34m.\u001b[0m\u001b[0m_check_response_status\u001b[0m\u001b[0;34m(\u001b[0m\u001b[0mresponse\u001b[0m\u001b[0;34m)\u001b[0m\u001b[0;34m\u001b[0m\u001b[0m\n\u001b[0m\u001b[1;32m    821\u001b[0m         return self._deserialize_response(\n\u001b[1;32m    822\u001b[0m             response.text, protocol_response_class)\n",
      "\u001b[0;32m/Users/nishill/src/winter17/ve/lib/python2.7/site-packages/ga4gh/client/client.pyc\u001b[0m in \u001b[0;36m_check_response_status\u001b[0;34m(self, response)\u001b[0m\n\u001b[1;32m    803\u001b[0m             raise exceptions.RequestNonSuccessException(\n\u001b[1;32m    804\u001b[0m                 \"Url {0} had status_code {1}\".format(\n\u001b[0;32m--> 805\u001b[0;31m                     response.url, response.status_code))\n\u001b[0m\u001b[1;32m    806\u001b[0m \u001b[0;34m\u001b[0m\u001b[0m\n\u001b[1;32m    807\u001b[0m     \u001b[0;32mdef\u001b[0m \u001b[0m_get_http_parameters\u001b[0m\u001b[0;34m(\u001b[0m\u001b[0mself\u001b[0m\u001b[0;34m)\u001b[0m\u001b[0;34m:\u001b[0m\u001b[0;34m\u001b[0m\u001b[0m\n",
      "\u001b[0;31mRequestNonSuccessException\u001b[0m: Url http://10.50.100.241/variants/search had status_code 404"
     ]
    }
   ],
   "source": [
    "import json\n",
    "pop_dict = {}\n",
    "with open (\"./1kgenomes_csids/simons_csids.json\") as data_file:\n",
    "    pop_dict = json.load(data_file)\n",
    "\n",
    "callSetIds = pop_dict.keys()\n",
    "pairs = pop_dict.values()\n",
    "variantSetIds = []\n",
    "for i in pairs:\n",
    "    variantSetIds.append(i[1])\n",
    "\n",
    "import variantMatrix\n",
    "vm = variantMatrix.VariantMatrix(simons_dataset,simons_client, \n",
    "                                 variantSetIds, callSetIds, 4, \"2\", 500000,1000000  )"
   ]
  }
 ],
 "metadata": {
  "kernelspec": {
   "display_name": "Python 2",
   "language": "python",
   "name": "python2"
  },
  "language_info": {
   "codemirror_mode": {
    "name": "ipython",
    "version": 2
   },
   "file_extension": ".py",
   "mimetype": "text/x-python",
   "name": "python",
   "nbconvert_exporter": "python",
   "pygments_lexer": "ipython2",
   "version": "2.7.10"
  }
 },
 "nbformat": 4,
 "nbformat_minor": 2
}
